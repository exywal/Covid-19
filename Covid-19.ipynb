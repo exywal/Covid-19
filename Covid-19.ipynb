{
 "cells": [
  {
   "cell_type": "markdown",
   "metadata": {},
   "source": [
    "### Covid-19 Data \n",
    "The values displayed in the table are provided by the Public Health Infobase, managed by the Health Promotion and Chronic Disease Prevention Branch (HPCDPB) of the Public Health Agency of Canada (PHAC). The values in the dataset were up to date as at 09/01/2021."
   ]
  },
  {
   "cell_type": "code",
   "execution_count": null,
   "metadata": {},
   "outputs": [],
   "source": [
    "import pandas as pd\n",
    "import numpy as np\n",
    "import matplotlib.pyplot as plt"
   ]
  },
  {
   "cell_type": "code",
   "execution_count": null,
   "metadata": {},
   "outputs": [],
   "source": []
  },
  {
   "cell_type": "code",
   "execution_count": null,
   "metadata": {},
   "outputs": [],
   "source": [
    "### Importing the Dataset for Covid-19 alongside its Data dictionary\n",
    "\n",
    "df = pd.read_csv('covid19-download.csv',index_col='pruid')\n",
    "df_dataDict = pd.read_csv('covid19-data-dictionary.csv',index_col='Column Header')"
   ]
  },
  {
   "cell_type": "code",
   "execution_count": null,
   "metadata": {},
   "outputs": [],
   "source": [
    "pd.set_option('display.max_columns', 34)\n",
    "pd.set_option('display.max_rows', 34)"
   ]
  },
  {
   "cell_type": "code",
   "execution_count": null,
   "metadata": {
    "scrolled": true
   },
   "outputs": [],
   "source": [
    "### Covid-19 Data Dictionary\n",
    "\n",
    "df_dataDict.head(20)"
   ]
  },
  {
   "cell_type": "code",
   "execution_count": null,
   "metadata": {
    "scrolled": true
   },
   "outputs": [],
   "source": [
    "### Top 10 rows of the Covid-19 Dataset shown in the DataFrame as seen below\n",
    "\n",
    "df.head(10)"
   ]
  },
  {
   "cell_type": "code",
   "execution_count": null,
   "metadata": {},
   "outputs": [],
   "source": [
    "df"
   ]
  },
  {
   "cell_type": "code",
   "execution_count": null,
   "metadata": {},
   "outputs": [],
   "source": [
    "# Displaying the columns in the dataset\n",
    "\n",
    "df.columns"
   ]
  },
  {
   "cell_type": "code",
   "execution_count": null,
   "metadata": {},
   "outputs": [],
   "source": [
    "# Removing prnameFR column as it is a duplicate of prname in French \n",
    "df.drop('prnameFR', axis=1, inplace=True)\n"
   ]
  },
  {
   "cell_type": "code",
   "execution_count": null,
   "metadata": {},
   "outputs": [],
   "source": [
    "data = df['prname'].value_counts()\n",
    "data"
   ]
  },
  {
   "cell_type": "code",
   "execution_count": null,
   "metadata": {},
   "outputs": [],
   "source": [
    "df['prname'].unique()"
   ]
  },
  {
   "cell_type": "code",
   "execution_count": null,
   "metadata": {},
   "outputs": [],
   "source": [
    "df2 = df.loc[48,['prname','date','numconf']]\n",
    "df3 = df.loc[59,['prname','date','numconf']]"
   ]
  },
  {
   "cell_type": "markdown",
   "metadata": {},
   "source": [
    "The Number of Confirmed Cases in Alberta as at 08/01/2021 is 109,652 "
   ]
  },
  {
   "cell_type": "code",
   "execution_count": null,
   "metadata": {},
   "outputs": [],
   "source": []
  },
  {
   "cell_type": "code",
   "execution_count": null,
   "metadata": {},
   "outputs": [],
   "source": [
    "df.loc[35,['date','numconf']].max()"
   ]
  },
  {
   "cell_type": "code",
   "execution_count": null,
   "metadata": {},
   "outputs": [],
   "source": [
    "filt1 = (df['date'] == '2020-12-31')\n",
    "filt2 = (df['date'] == '2021-01-08')"
   ]
  },
  {
   "cell_type": "code",
   "execution_count": null,
   "metadata": {},
   "outputs": [],
   "source": [
    "df_2020 = df.loc[filt1,['prname','numtotal']]\n",
    "df_2020.rename(columns={'numtotal':'numtotal_2020'},inplace=True)"
   ]
  },
  {
   "cell_type": "code",
   "execution_count": null,
   "metadata": {},
   "outputs": [],
   "source": [
    "df_2021 = df.loc[filt2,['prname','numtotal']]\n",
    "df_2021.rename(columns={'numtotal':'numtotal_2021'},inplace=True)"
   ]
  },
  {
   "cell_type": "code",
   "execution_count": null,
   "metadata": {},
   "outputs": [],
   "source": [
    "df_new = pd.merge(df_2020,df_2021)\n",
    "df_new"
   ]
  },
  {
   "cell_type": "code",
   "execution_count": null,
   "metadata": {},
   "outputs": [],
   "source": [
    "df_new['Total'] = df_new['numtotal_2020'] + df_new['numtotal_2021']\n",
    "df_new['Percentage Increase'] = ((df_new['numtotal_2021'] - df_new['numtotal_2020']) / df_new['Total']) *100"
   ]
  },
  {
   "cell_type": "code",
   "execution_count": null,
   "metadata": {},
   "outputs": [],
   "source": [
    "df_new.drop(13,axis =0,inplace=True)\n"
   ]
  },
  {
   "cell_type": "code",
   "execution_count": null,
   "metadata": {},
   "outputs": [],
   "source": [
    "#df_new.set_index('prname',inplace=True)\n"
   ]
  },
  {
   "cell_type": "code",
   "execution_count": null,
   "metadata": {},
   "outputs": [],
   "source": [
    "df_new"
   ]
  },
  {
   "cell_type": "code",
   "execution_count": null,
   "metadata": {},
   "outputs": [],
   "source": [
    "df_new.to_csv('Modified.csv')"
   ]
  },
  {
   "cell_type": "code",
   "execution_count": null,
   "metadata": {},
   "outputs": [],
   "source": []
  },
  {
   "cell_type": "code",
   "execution_count": null,
   "metadata": {},
   "outputs": [],
   "source": [
    "# Column Chart for % Increase in Covid-19 Cases in Canada \n",
    "\n",
    "plt.figure(figsize=(20,10))\n",
    "plt.title('% Increase of Covid-19 Cases in Canada as at 08/01/2021')\n",
    "plt.bar(df_new['prname'][1:13], df_new['Percentage Increase'][1:13], width=0.8, align='center')\n",
    "\n",
    "plt.ylabel('% Increase of Covid-19 Cases')\n",
    "plt.xlabel('Provinces')\n",
    "plt.show()\n",
    "\n"
   ]
  },
  {
   "cell_type": "markdown",
   "metadata": {},
   "source": [
    "#### Summary\n",
    "As seen in the Figure above,as at 08/01/2021, the province of New Brunswick seems to have had the highest increase in Covid-19 cases in Canada. There were no significant changes in the cases recoreded in the Norwest Territories and Nunavut."
   ]
  },
  {
   "cell_type": "code",
   "execution_count": null,
   "metadata": {},
   "outputs": [],
   "source": []
  },
  {
   "cell_type": "code",
   "execution_count": null,
   "metadata": {},
   "outputs": [],
   "source": [
    "plt.figure(figsize=(15,8))\n",
    "\n",
    "plt.title('Total number of Covid-19 cases in Canada') \n",
    "plt.plot(df_new['prname'][1:13], df_new['numtotal_2020'][1:13],'b.-', label='2020 Total Cases')\n",
    "plt.plot(df_new['prname'][1:13], df_new['numtotal_2021'][1:13],'r.-', label='2021 Total Cases')\n",
    "\n",
    "plt.ylabel('Total number of Covid-19 Cases Confirmed')\n",
    "plt.xlabel('Provinces')\n",
    "\n",
    "plt.legend()\n",
    "plt.show()\n"
   ]
  },
  {
   "cell_type": "markdown",
   "metadata": {},
   "source": [
    "#### Summary\n",
    "The total number of Covid-19 cases recorded in the year 2020 is compared to the total number of cases recorded as at January 08, 2021. A notable increase is seen in the province of Quebec as the highest, followed by Ontario and then Alberta"
   ]
  },
  {
   "cell_type": "code",
   "execution_count": null,
   "metadata": {},
   "outputs": [],
   "source": []
  },
  {
   "cell_type": "code",
   "execution_count": null,
   "metadata": {},
   "outputs": [],
   "source": [
    "#Covid-19 Trend in Canada\n",
    "\n",
    "plt.title('Covid-19 trend in Canada as at 08/01/2021')\n",
    "plt.plot(df['date'][1], df['numconf'][1],'b.-', label='Canada')\n",
    "\n",
    "plt.ylabel('Number of Covid-19 Cases Confirmed')\n",
    "plt.xlabel('Date')\n",
    "\n",
    "plt.xticks(df.date[::900])\n",
    "plt.legend()\n",
    "plt.show()\n"
   ]
  },
  {
   "cell_type": "markdown",
   "metadata": {},
   "source": [
    "#### Summary\n",
    "The figure above shows a trend of confirmed Covid-19 cases in Canada. As this time, no dip has been noticed in the trend which is at its all time highest of 644,348 confirmed cases."
   ]
  },
  {
   "cell_type": "code",
   "execution_count": null,
   "metadata": {},
   "outputs": [],
   "source": []
  },
  {
   "cell_type": "code",
   "execution_count": null,
   "metadata": {},
   "outputs": [],
   "source": [
    "# Trend of Covid-19 cases in Alberta and Ontario\n",
    "\n",
    "plt.figure(figsize=(10,5))\n",
    "\n",
    "plt.title('Covid-19 trend in Alberta and Ontario (2020 -2021)')\n",
    "plt.plot(df['date'][48], df['numconf'][48], label='Alberta')\n",
    "plt.plot(df['date'][35], df['numconf'][35], label='Ontario')\n",
    "\n",
    "plt.ylabel('Number of Covid-19 Cases Confirmed')\n",
    "plt.xlabel('Date')\n",
    "\n",
    "plt.xticks(df.date[::670])\n",
    "plt.legend()\n",
    "plt.show()"
   ]
  },
  {
   "cell_type": "markdown",
   "metadata": {},
   "source": [
    "#### Summary\n",
    "The Number of confirmed cases for the provinces of Alberta and Ontario are being compared in the Figure above. Given the numbers, Ontario clearly has more numbers of confirmed cases with Alberta following behind."
   ]
  },
  {
   "cell_type": "code",
   "execution_count": null,
   "metadata": {},
   "outputs": [],
   "source": []
  },
  {
   "cell_type": "code",
   "execution_count": null,
   "metadata": {},
   "outputs": [],
   "source": [
    "# Histogram for the distribution of Covid-19 cases in Canada\n",
    "plt.figure(figsize=(10,5))\n",
    "plt.title('Histogram Distribution for Total Number of Covid-19 Cases in Canada')\n",
    "\n",
    "plt.hist(df['numtotal'])\n",
    "\n",
    "plt.xlabel('Total Number of Covid-19 Cases')\n",
    "plt.show()"
   ]
  },
  {
   "cell_type": "markdown",
   "metadata": {},
   "source": [
    "#### Summary\n",
    "A histogram is plotted as a way to know the distribution for the total number of Covid-19 cases for the Provinces and Territories. It is noticed that the mean for the distribution lies between 0 to 50,000."
   ]
  },
  {
   "cell_type": "code",
   "execution_count": null,
   "metadata": {},
   "outputs": [],
   "source": []
  }
 ],
 "metadata": {
  "kernelspec": {
   "display_name": "Python 3",
   "language": "python",
   "name": "python3"
  },
  "language_info": {
   "codemirror_mode": {
    "name": "ipython",
    "version": 3
   },
   "file_extension": ".py",
   "mimetype": "text/x-python",
   "name": "python",
   "nbconvert_exporter": "python",
   "pygments_lexer": "ipython3",
   "version": "3.7.4"
  }
 },
 "nbformat": 4,
 "nbformat_minor": 2
}
